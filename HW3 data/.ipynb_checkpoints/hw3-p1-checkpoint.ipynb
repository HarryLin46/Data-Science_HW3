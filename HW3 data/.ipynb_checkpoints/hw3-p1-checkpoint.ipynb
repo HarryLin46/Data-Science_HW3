{
 "cells": [
  {
   "cell_type": "code",
   "execution_count": 26,
   "id": "b48f8fa9",
   "metadata": {},
   "outputs": [],
   "source": [
    "import numpy as np\n",
    "import pandas as pd\n",
    "from matplotlib import pyplot as plt\n",
    "from sklearn.svm import SVC\n",
    "from sklearn.tree import DecisionTreeClassifier\n",
    "from sklearn.model_selection import cross_val_score\n",
    "import random"
   ]
  },
  {
   "cell_type": "markdown",
   "id": "84f0822e",
   "metadata": {},
   "source": [
    "# Load Data"
   ]
  },
  {
   "cell_type": "code",
   "execution_count": 3,
   "id": "19a5be2e",
   "metadata": {},
   "outputs": [],
   "source": [
    "# TODO: Load data here.\n",
    "indexes = pd.read_csv('hw3_Data1/index.txt', delimiter = '\\t', header = None)\n",
    "x = pd.read_csv('hw3_Data1/gene.txt', delimiter = ' ', header = None).to_numpy().T\n",
    "y = pd.read_csv('hw3_Data1/label.txt', header = None).to_numpy()\n",
    "y = (y>0).astype(int).reshape(y.shape[0])"
   ]
  },
  {
   "cell_type": "code",
   "execution_count": 14,
   "id": "d2f29e1a",
   "metadata": {},
   "outputs": [
    {
     "name": "stdout",
     "output_type": "stream",
     "text": [
      "              0       1       2   3         4  \\\n",
      "0      Hsa.3004  H55933  3' UTR   1  203417.0   \n",
      "1     Hsa.13491  R39465  3' UTR  2a   23933.0   \n",
      "2     Hsa.13491  R39465  3' UTR  2a   23933.0   \n",
      "3     Hsa.37254  R85482  3' UTR  2a  180093.0   \n",
      "4       Hsa.541  U14973    gene   1       NaN   \n",
      "...         ...     ...     ...  ..       ...   \n",
      "1995    Hsa.984  M33210    gene   1       NaN   \n",
      "1996  Hsa.35124  H18490  3' UTR  2a  171840.0   \n",
      "1997   Hsa.3952  H40891  3' UTR  2a  175983.0   \n",
      "1998  Hsa.32734  R77780  3' UTR  2a  145300.0   \n",
      "1999   Hsa.9683  T49647  3' UTR  2a   67762.0   \n",
      "\n",
      "                                                      5  \n",
      "0     H.sapiens mRNA for homologue to yeast ribosoma...  \n",
      "1     EUKARYOTIC INITIATION FACTOR 4A (Oryctolagus c...  \n",
      "2     EUKARYOTIC INITIATION FACTOR 4A (Oryctolagus c...  \n",
      "3     SERUM RESPONSE FACTOR (Homo sapiens)          ...  \n",
      "4     Human ribosomal protein S29 mRNA, complete cds...  \n",
      "...                                                 ...  \n",
      "1995  Human colony stimulating factor 1 receptor (CS...  \n",
      "1996  RAN GTPASE ACTIVATING PROTEIN 1 (Mus musculus)...  \n",
      "1997  NODULATION PROTEIN Q (Azospirillum brasilense)...  \n",
      "1998  TRANSPOSABLE ELEMENT ACTIVATOR (Zea mays)     ...  \n",
      "1999  MYRISTOYLATED ALANINE-RICH C-KINASE SUBSTRATE ...  \n",
      "\n",
      "[2000 rows x 6 columns]\n"
     ]
    }
   ],
   "source": [
    "print(indexes)"
   ]
  },
  {
   "cell_type": "code",
   "execution_count": 15,
   "id": "b8d2b952",
   "metadata": {},
   "outputs": [
    {
     "name": "stdout",
     "output_type": "stream",
     "text": [
      "0                                              Hsa.541\n",
      "1                                               U14973\n",
      "2                                                 gene\n",
      "3                                                    1\n",
      "4                                                  NaN\n",
      "5    Human ribosomal protein S29 mRNA, complete cds...\n",
      "Name: 4, dtype: object\n"
     ]
    }
   ],
   "source": [
    "print(indexes.iloc[4])"
   ]
  },
  {
   "cell_type": "code",
   "execution_count": 16,
   "id": "7e1c2def",
   "metadata": {},
   "outputs": [
    {
     "name": "stdout",
     "output_type": "stream",
     "text": [
      "(62, 2000)\n"
     ]
    }
   ],
   "source": [
    "print(x.shape)"
   ]
  },
  {
   "cell_type": "code",
   "execution_count": 44,
   "id": "11dcedc0",
   "metadata": {},
   "outputs": [
    {
     "name": "stdout",
     "output_type": "stream",
     "text": [
      "(62, 2000)\n"
     ]
    }
   ],
   "source": [
    "print(x.shape)"
   ]
  },
  {
   "cell_type": "code",
   "execution_count": 6,
   "id": "326a25af",
   "metadata": {
    "scrolled": true
   },
   "outputs": [
    {
     "name": "stdout",
     "output_type": "stream",
     "text": [
      "(62,)\n"
     ]
    }
   ],
   "source": [
    "print(y.shape)"
   ]
  },
  {
   "cell_type": "code",
   "execution_count": 18,
   "id": "742a5ee6",
   "metadata": {},
   "outputs": [
    {
     "name": "stdout",
     "output_type": "stream",
     "text": [
      "[0 1 0 1 0 1 0 1 0 1 0 1 0 1 0 1 0 1 0 1 0 1 0 1 0 0 0 0 0 0 0 0 0 0 0 0 0\n",
      " 0 1 0 0 1 1 0 0 0 0 1 0 1 1 0 0 1 1 0 0 0 0 1 0 1]\n"
     ]
    }
   ],
   "source": [
    "print(y)"
   ]
  },
  {
   "attachments": {},
   "cell_type": "markdown",
   "id": "25d0162c",
   "metadata": {},
   "source": [
    "# Feature ranking : One-by-one Feature Selection"
   ]
  },
  {
   "cell_type": "markdown",
   "id": "778b6c46",
   "metadata": {},
   "source": [
    "# Use Similarity-Based: Fisher Score"
   ]
  },
  {
   "cell_type": "code",
   "execution_count": 45,
   "id": "0432b123",
   "metadata": {},
   "outputs": [],
   "source": [
    "# TODO: Design your score function for feature selection\n",
    "ranking_idx = np.linspace(0,1999,2000,dtype=int)\n",
    "random.shuffle(ranking_idx)\n",
    "# TODO: To use the provided evaluation sample code, you need to generate ranking_idx, which is the sorted index of feature"
   ]
  },
  {
   "cell_type": "markdown",
   "id": "7d93f874",
   "metadata": {},
   "source": [
    "# Feature evaluation"
   ]
  },
  {
   "cell_type": "code",
   "execution_count": 49,
   "id": "dd871f8b",
   "metadata": {
    "scrolled": true
   },
   "outputs": [
    {
     "name": "stdout",
     "output_type": "stream",
     "text": [
      "Max of Decision Tree: 0.8538461538461538\n",
      "Number of features: 460\n"
     ]
    }
   ],
   "source": [
    "# Use a simple dicision tree with 5-fold validation to evaluate the feature selection result.\n",
    "# You can try other classifier and hyperparameter.\n",
    "score_history = []\n",
    "for m in range(5, 2001, 5): # m = 5,10,15,...,2000\n",
    "    # Select Top m feature\n",
    "    x_subset = x[:, ranking_idx[:m]]\n",
    "\n",
    "    # Build random forest\n",
    "#     clf = DecisionTreeClassifier(random_state=0)\n",
    "    clf = SVC(kernel='rbf', random_state=0) #build SVM\n",
    "\n",
    "    # Calculate validation score\n",
    "    scores = cross_val_score(clf, x_subset, y, cv=5)\n",
    "\n",
    "    # Save the score calculated with m feature\n",
    "    score_history.append(scores.mean())\n",
    "\n",
    "# Report best accuracy.\n",
    "print(f\"Max of Decision Tree: {max(score_history)}\")\n",
    "print(f\"Number of features: {np.argmax(score_history)*5+5}\")"
   ]
  },
  {
   "cell_type": "markdown",
   "id": "74007708",
   "metadata": {},
   "source": [
    "# Visualization"
   ]
  },
  {
   "cell_type": "code",
   "execution_count": 50,
   "id": "8fd2e8a5",
   "metadata": {},
   "outputs": [
    {
     "data": {
      "image/png": "[encoded data removed]",
      "text/plain": [
       "<Figure size 432x288 with 1 Axes>"
      ]
     },
     "metadata": {
      "needs_background": "light"
     },
     "output_type": "display_data"
    }
   ],
   "source": [
    "plt.plot(range(5, 2001, 5), score_history, c='blue')\n",
    "plt.title('Original')\n",
    "plt.xlabel('Number of features')\n",
    "plt.ylabel('Cross-validation score')\n",
    "plt.legend(['Decision Tree'])\n",
    "plt.savefig('1-3_result.png')"
   ]
  },
  {
   "cell_type": "code",
   "execution_count": null,
   "id": "0a15aaf8",
   "metadata": {},
   "outputs": [],
   "source": []
  }
 ],
 "metadata": {
  "kernelspec": {
   "display_name": "Python 3 (ipykernel)",
   "language": "python",
   "name": "python3"
  },
  "language_info": {
   "codemirror_mode": {
    "name": "ipython",
    "version": 3
   },
   "file_extension": ".py",
   "mimetype": "text/x-python",
   "name": "python",
   "nbconvert_exporter": "python",
   "pygments_lexer": "ipython3",
   "version": "3.9.7"
  }
 },
 "nbformat": 4,
 "nbformat_minor": 5
}

{
 "cells": [
  {
   "cell_type": "code",
   "execution_count": 1,
   "id": "b48f8fa9",
   "metadata": {},
   "outputs": [],
   "source": [
    "import numpy as np\n",
    "import pandas as pd\n",
    "from matplotlib import pyplot as plt\n",
    "from sklearn.svm import SVC\n",
    "from sklearn.tree import DecisionTreeClassifier\n",
    "from sklearn.model_selection import cross_val_score\n",
    "import random"
   ]
  },
  {
   "cell_type": "markdown",
   "id": "84f0822e",
   "metadata": {},
   "source": [
    "# Load Data"
   ]
  },
  {
   "cell_type": "code",
   "execution_count": 2,
   "id": "19a5be2e",
   "metadata": {},
   "outputs": [],
   "source": [
    "# TODO: Load data here.\n",
    "indexes = pd.read_csv('hw3_Data1/index.txt', delimiter = '\\t', header = None)\n",
    "x = pd.read_csv('hw3_Data1/gene.txt', delimiter = ' ', header = None).to_numpy().T\n",
    "y = pd.read_csv('hw3_Data1/label.txt', header = None).to_numpy()\n",
    "y = (y>0).astype(int).reshape(y.shape[0])"
   ]
  },
  {
   "cell_type": "markdown",
   "id": "25d0162c",
   "metadata": {},
   "source": [
    "# Feature ranking: Subset-Based Feature Selection "
   ]
  },
  {
   "cell_type": "markdown",
   "id": "94b0870e",
   "metadata": {},
   "source": [
    "# Use PSO (particle swarm optimization)"
   ]
  },
  {
   "cell_type": "markdown",
   "id": "28e6bd52",
   "metadata": {},
   "source": [
    "# use f(x) = a * (1 - P) + (1-a)* #_select/#_features"
   ]
  },
  {
   "cell_type": "markdown",
   "id": "de22698c",
   "metadata": {},
   "source": [
    "x is 2000-D vector with all elements between 0-1"
   ]
  },
  {
   "cell_type": "markdown",
   "id": "b09e42dd",
   "metadata": {},
   "source": [
    "If x[i] >0.5, then index = i feature is chosen, else the feature is discarded"
   ]
  },
  {
   "cell_type": "markdown",
   "id": "3b7b73d2",
   "metadata": {},
   "source": [
    "# Hyperparameter"
   ]
  },
  {
   "cell_type": "code",
   "execution_count": 3,
   "id": "17c64253",
   "metadata": {},
   "outputs": [],
   "source": [
    "a = 0.9 #重視正確率(a大)或重視選少feature, a = 0~1\n",
    "gamma = 1\n",
    "w = 0.9/3 #0.1~10 調自己的速度貢獻\n",
    "phi_p = 0.8/3 #0.1~10 調自己最佳貢獻\n",
    "phi_g = 0.8/3 #0.1~10 調global最佳貢獻\n",
    "lr = 3 #0.1~10 縮放最終速度\n",
    "iteration = 20 #跑幾輪\n",
    "S = 1000 #number of particles\n",
    "k = 1 #Vmax[j] = k*((max(x[j])-min(x[j]))/2) , k = 0~1\n",
    "w_decay = False"
   ]
  },
  {
   "cell_type": "markdown",
   "id": "b26013b2",
   "metadata": {},
   "source": [
    "# define cost function"
   ]
  },
  {
   "cell_type": "code",
   "execution_count": 4,
   "id": "5ddd9baf",
   "metadata": {},
   "outputs": [],
   "source": [
    "def cost_function(x,y,pi):\n",
    "    idx = []\n",
    "    for i in range(2000):\n",
    "        if pi[i] > 0.5:\n",
    "            idx.append(i)\n",
    "    x_subset = x[:,idx]\n",
    "    clf = DecisionTreeClassifier(random_state=0)\n",
    "    scores = cross_val_score(clf, x_subset, y, cv=5)\n",
    "    P = scores.mean()\n",
    "    fx = a*(1 - P) + (1-a)*gamma*(len(idx))/(2000)\n",
    "    return fx,P"
   ]
  },
  {
   "cell_type": "markdown",
   "id": "d2586fb5",
   "metadata": {},
   "source": [
    "# Initialization"
   ]
  },
  {
   "cell_type": "code",
   "execution_count": 5,
   "id": "1ded0f4f",
   "metadata": {},
   "outputs": [],
   "source": [
    "ParticlePosition = np.random.uniform(low=0, high=1, size=(S,2000)) #Since there are 2000 features\n",
    "ParticleBestPosition = ParticlePosition\n",
    "ParticleBestCost = np.zeros((S,1))\n",
    "ParticleVelocity = np.random.uniform(low=-1, high=1, size=(S,2000))\n",
    "Vmax = k*0.5 #Vmax = k*(b_up-b_low)/2\n",
    "g_cost = 65535 #global best value(least cost)\n",
    "for i in range(S):\n",
    "    cost,P = cost_function(x,y,ParticlePosition[i]) #smaller is better\n",
    "    ParticleBestCost[i] = cost\n",
    "    if cost < g_cost:\n",
    "        g_cost = cost\n",
    "        g = ParticlePosition[i]\n",
    "        best_P = P"
   ]
  },
  {
   "cell_type": "markdown",
   "id": "9daa25a7",
   "metadata": {},
   "source": [
    "# main algorithm"
   ]
  },
  {
   "cell_type": "code",
   "execution_count": 6,
   "id": "0432b123",
   "metadata": {},
   "outputs": [
    {
     "name": "stdout",
     "output_type": "stream",
     "text": [
      "round 0 : 0.85\n",
      "round 1 : 0.8666666666666666\n",
      "round 2 : 0.8666666666666666\n",
      "round 3 : 0.8666666666666666\n",
      "round 4 : 0.8833333333333334\n"
     ]
    }
   ],
   "source": [
    "# TODO: Design your score function for feature selection\n",
    "P_record = []\n",
    "for k in range(iteration):\n",
    "    # w is linearly decay\n",
    "#     print(k)\n",
    "    if w_decay:\n",
    "        wk = w - (w-0)*(k/iteration)\n",
    "    else:\n",
    "        wk = w\n",
    "    for i in range(S): #for i-th particle\n",
    "        for d in range(2000): #for each dimension\n",
    "            rp = random.random()\n",
    "            rg = random.random()\n",
    "            ParticleVelocity[i][d] = wk*ParticleVelocity[i][d] +\\\n",
    "                                     phi_p*rp*(ParticleBestPosition[i][d] - ParticlePosition[i][d]) +\\\n",
    "                                     phi_g*rg*(g[d] - ParticlePosition[i][d])\n",
    "            #keep the particle in space\n",
    "            if ParticleVelocity[i][d] < -Vmax:\n",
    "                ParticleVelocity[i][d] = -Vmax\n",
    "            if ParticleVelocity[i][d] > Vmax:\n",
    "                ParticleVelocity[i][d] = Vmax\n",
    "            \n",
    "            ParticlePosition[i][d] = ParticlePosition[i][d] + lr*ParticleVelocity[i][d]\n",
    "            #keep the particle in space\n",
    "            if ParticlePosition[i][d] < -1:\n",
    "                ParticlePosition[i][d] = -1\n",
    "            if ParticlePosition[i][d] > 1:\n",
    "                ParticlePosition[i][d] = 1\n",
    "            \n",
    "        cost,P = cost_function(x,y,ParticlePosition[i])\n",
    "        if cost < ParticleBestCost[i]:\n",
    "            ParticleBestPosition[i] = ParticlePosition[i]\n",
    "            ParticleBestCost[i] = cost\n",
    "            if cost < g_cost:\n",
    "                g = ParticlePosition[i]\n",
    "                g_cost = cost\n",
    "                best_P = P\n",
    "    print(\"round\",k,\":\",best_P)\n",
    "    P_record.append(best_P)\n",
    "# TODO: To use the provided evaluation sample code, you need to generate ranking_idx, which is the sorted index of feature"
   ]
  },
  {
   "cell_type": "code",
   "execution_count": 7,
   "id": "03d2e8e0",
   "metadata": {},
   "outputs": [],
   "source": [
    "# print(g)"
   ]
  },
  {
   "cell_type": "code",
   "execution_count": 8,
   "id": "3b94cb8b",
   "metadata": {
    "scrolled": true
   },
   "outputs": [
    {
     "data": {
      "text/plain": [
       "[<matplotlib.lines.Line2D at 0x1731cb5d1f0>]"
      ]
     },
     "execution_count": 8,
     "metadata": {},
     "output_type": "execute_result"
    },
    {
     "data": {
      "image/png": "[encoded data removed]",
      "text/plain": [
       "<Figure size 432x288 with 1 Axes>"
      ]
     },
     "metadata": {
      "needs_background": "light"
     },
     "output_type": "display_data"
    }
   ],
   "source": [
    "# print(P_record)\n",
    "plt.plot(range(0, iteration, 1),P_record)"
   ]
  },
  {
   "cell_type": "code",
   "execution_count": 9,
   "id": "f31a3e16",
   "metadata": {},
   "outputs": [],
   "source": [
    "pickingidx = []\n",
    "for i in range(2000):\n",
    "    if g[i]>0.5:\n",
    "        pickingidx.append(i)"
   ]
  },
  {
   "cell_type": "code",
   "execution_count": 10,
   "id": "aaf4f031",
   "metadata": {},
   "outputs": [
    {
     "name": "stdout",
     "output_type": "stream",
     "text": [
      "0.8833333333333334 / 826\n"
     ]
    }
   ],
   "source": [
    "print(best_P,'/',len(pickingidx))"
   ]
  },
  {
   "cell_type": "markdown",
   "id": "d4d3c51f",
   "metadata": {},
   "source": [
    "# baseline: 0.9038461538461539 / 67"
   ]
  },
  {
   "cell_type": "markdown",
   "id": "344ad3dc",
   "metadata": {},
   "source": [
    "# Experiment Record"
   ]
  },
  {
   "cell_type": "markdown",
   "id": "e0f07d2d",
   "metadata": {},
   "source": [
    "a = 1\n",
    "w = 0.2\n",
    "phi_p = 0.4\n",
    "phi_g = 0.4\n",
    "lr = 0.05\n",
    "iteration = 40\n",
    "S = 100\n",
    "\n",
    "-> 0.9012820512820513 / 991"
   ]
  },
  {
   "cell_type": "markdown",
   "id": "91649ca6",
   "metadata": {},
   "source": [
    "a = 0.7\n",
    "w = 0.2\n",
    "phi_p = 0.4\n",
    "phi_g = 0.4\n",
    "lr = 0.05\n",
    "iteration = 40\n",
    "S = 100\n",
    "\n",
    "-> 0.8846153846153847 / 961"
   ]
  },
  {
   "cell_type": "markdown",
   "id": "4c9811b8",
   "metadata": {},
   "source": [
    "a = 0.3\n",
    "w = 0.2\n",
    "phi_p = 0.4\n",
    "phi_g = 0.4\n",
    "lr = 0.05\n",
    "iteration = 40\n",
    "\n",
    "#number of particles\n",
    "S = 100\n",
    "\n",
    "->0.8538461538461538/931"
   ]
  }
 ],
 "metadata": {
  "kernelspec": {
   "display_name": "Python 3 (ipykernel)",
   "language": "python",
   "name": "python3"
  },
  "language_info": {
   "codemirror_mode": {
    "name": "ipython",
    "version": 3
   },
   "file_extension": ".py",
   "mimetype": "text/x-python",
   "name": "python",
   "nbconvert_exporter": "python",
   "pygments_lexer": "ipython3",
   "version": "3.9.7"
  }
 },
 "nbformat": 4,
 "nbformat_minor": 5
}

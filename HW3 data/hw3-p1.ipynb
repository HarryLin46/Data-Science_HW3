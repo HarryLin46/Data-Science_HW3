{
 "cells": [
  {
   "cell_type": "code",
   "execution_count": 1,
   "id": "b48f8fa9",
   "metadata": {},
   "outputs": [],
   "source": [
    "import numpy as np\n",
    "import pandas as pd\n",
    "from matplotlib import pyplot as plt\n",
    "from sklearn.svm import SVC\n",
    "from sklearn.tree import DecisionTreeClassifier\n",
    "from sklearn.model_selection import cross_val_score\n",
    "import random"
   ]
  },
  {
   "cell_type": "markdown",
   "id": "84f0822e",
   "metadata": {},
   "source": [
    "# Load Data"
   ]
  },
  {
   "cell_type": "code",
   "execution_count": 2,
   "id": "19a5be2e",
   "metadata": {},
   "outputs": [],
   "source": [
    "# TODO: Load data here.\n",
    "indexes = pd.read_csv('hw3_Data1/index.txt', delimiter = '\\t', header = None)\n",
    "x = pd.read_csv('hw3_Data1/gene.txt', delimiter = ' ', header = None).to_numpy().T\n",
    "y = pd.read_csv('hw3_Data1/label.txt', header = None).to_numpy()\n",
    "y = (y>0).astype(int).reshape(y.shape[0])"
   ]
  },
  {
   "cell_type": "code",
   "execution_count": 3,
   "id": "d2f29e1a",
   "metadata": {},
   "outputs": [
    {
     "name": "stdout",
     "output_type": "stream",
     "text": [
      "              0       1       2   3         4  \\\n",
      "0      Hsa.3004  H55933  3' UTR   1  203417.0   \n",
      "1     Hsa.13491  R39465  3' UTR  2a   23933.0   \n",
      "2     Hsa.13491  R39465  3' UTR  2a   23933.0   \n",
      "3     Hsa.37254  R85482  3' UTR  2a  180093.0   \n",
      "4       Hsa.541  U14973    gene   1       NaN   \n",
      "...         ...     ...     ...  ..       ...   \n",
      "1995    Hsa.984  M33210    gene   1       NaN   \n",
      "1996  Hsa.35124  H18490  3' UTR  2a  171840.0   \n",
      "1997   Hsa.3952  H40891  3' UTR  2a  175983.0   \n",
      "1998  Hsa.32734  R77780  3' UTR  2a  145300.0   \n",
      "1999   Hsa.9683  T49647  3' UTR  2a   67762.0   \n",
      "\n",
      "                                                      5  \n",
      "0     H.sapiens mRNA for homologue to yeast ribosoma...  \n",
      "1     EUKARYOTIC INITIATION FACTOR 4A (Oryctolagus c...  \n",
      "2     EUKARYOTIC INITIATION FACTOR 4A (Oryctolagus c...  \n",
      "3     SERUM RESPONSE FACTOR (Homo sapiens)          ...  \n",
      "4     Human ribosomal protein S29 mRNA, complete cds...  \n",
      "...                                                 ...  \n",
      "1995  Human colony stimulating factor 1 receptor (CS...  \n",
      "1996  RAN GTPASE ACTIVATING PROTEIN 1 (Mus musculus)...  \n",
      "1997  NODULATION PROTEIN Q (Azospirillum brasilense)...  \n",
      "1998  TRANSPOSABLE ELEMENT ACTIVATOR (Zea mays)     ...  \n",
      "1999  MYRISTOYLATED ALANINE-RICH C-KINASE SUBSTRATE ...  \n",
      "\n",
      "[2000 rows x 6 columns]\n"
     ]
    }
   ],
   "source": [
    "print(indexes)"
   ]
  },
  {
   "cell_type": "code",
   "execution_count": 4,
   "id": "b8d2b952",
   "metadata": {},
   "outputs": [
    {
     "name": "stdout",
     "output_type": "stream",
     "text": [
      "0                                              Hsa.541\n",
      "1                                               U14973\n",
      "2                                                 gene\n",
      "3                                                    1\n",
      "4                                                  NaN\n",
      "5    Human ribosomal protein S29 mRNA, complete cds...\n",
      "Name: 4, dtype: object\n"
     ]
    }
   ],
   "source": [
    "print(indexes.iloc[4])"
   ]
  },
  {
   "cell_type": "code",
   "execution_count": 5,
   "id": "7e1c2def",
   "metadata": {},
   "outputs": [
    {
     "name": "stdout",
     "output_type": "stream",
     "text": [
      "(62, 2000)\n"
     ]
    }
   ],
   "source": [
    "print(x.shape)"
   ]
  },
  {
   "cell_type": "code",
   "execution_count": 6,
   "id": "11dcedc0",
   "metadata": {},
   "outputs": [
    {
     "name": "stdout",
     "output_type": "stream",
     "text": [
      "[[8.5894163e+03 5.4682409e+03 4.2634075e+03 ... 7.5677500e+01\n",
      "  8.3522500e+01 2.8701250e+01]\n",
      " [9.1642537e+03 6.7195295e+03 4.8834487e+03 ... 1.8656750e+02\n",
      "  4.4472500e+01 1.6773750e+01]\n",
      " [3.8257050e+03 6.9703614e+03 5.3699688e+03 ... 4.2656250e+01\n",
      "  1.6092500e+01 1.5156250e+01]\n",
      " ...\n",
      " [6.7306250e+03 3.4721250e+03 2.5594625e+03 ... 1.3352125e+02\n",
      "  9.3098750e+01 7.4325000e+00]\n",
      " [6.2346225e+03 4.0053000e+03 3.0936750e+03 ... 1.1820125e+02\n",
      "  3.2687500e+01 2.3265000e+01]\n",
      " [7.4720100e+03 3.6539341e+03 2.7282162e+03 ... 7.7215000e+01\n",
      "  4.9862500e+01 3.9631250e+01]]\n"
     ]
    }
   ],
   "source": [
    "print(x)"
   ]
  },
  {
   "cell_type": "code",
   "execution_count": 7,
   "id": "326a25af",
   "metadata": {
    "scrolled": true
   },
   "outputs": [
    {
     "name": "stdout",
     "output_type": "stream",
     "text": [
      "(62,)\n"
     ]
    }
   ],
   "source": [
    "print(y.shape)"
   ]
  },
  {
   "cell_type": "code",
   "execution_count": 8,
   "id": "742a5ee6",
   "metadata": {},
   "outputs": [
    {
     "name": "stdout",
     "output_type": "stream",
     "text": [
      "[0 1 0 1 0 1 0 1 0 1 0 1 0 1 0 1 0 1 0 1 0 1 0 1 0 0 0 0 0 0 0 0 0 0 0 0 0\n",
      " 0 1 0 0 1 1 0 0 0 0 1 0 1 1 0 0 1 1 0 0 0 0 1 0 1]\n"
     ]
    }
   ],
   "source": [
    "print(y)"
   ]
  },
  {
   "cell_type": "markdown",
   "id": "25d0162c",
   "metadata": {},
   "source": [
    "# Feature ranking : One-by-one Feature Selection"
   ]
  },
  {
   "cell_type": "markdown",
   "id": "778b6c46",
   "metadata": {},
   "source": [
    "# Use Similarity-Based: Fisher Score (without normalization)"
   ]
  },
  {
   "cell_type": "code",
   "execution_count": 9,
   "id": "a860894d",
   "metadata": {},
   "outputs": [],
   "source": [
    "def get_ui(x,i): #data x and index i, ui is the mean of feature i\n",
    "    target = x[:,i]\n",
    "    return np.mean(target)"
   ]
  },
  {
   "cell_type": "code",
   "execution_count": 10,
   "id": "08014f35",
   "metadata": {},
   "outputs": [],
   "source": [
    "def get_uij_and_varij(x,i,j):\n",
    "    target = []\n",
    "    for k in range(62):\n",
    "        if y[k] == j:\n",
    "            target.append(x[k,i])\n",
    "            \n",
    "    uij = np.mean(target)\n",
    "    varij = np.var(target)\n",
    "    return uij,varij"
   ]
  },
  {
   "cell_type": "code",
   "execution_count": 11,
   "id": "8dcee4bc",
   "metadata": {},
   "outputs": [],
   "source": [
    "def insert(idx,idx_score,i,i_score):\n",
    "    output_idx = idx\n",
    "    output_idx_score = idx_score\n",
    "    for k in range(len(output_idx)):\n",
    "        if i_score >= output_idx_score[k]:\n",
    "            output_idx.insert(k,i)\n",
    "            output_idx_score.insert(k,i_score)\n",
    "            break\n",
    "    return output_idx,output_idx_score"
   ]
  },
  {
   "cell_type": "code",
   "execution_count": 12,
   "id": "0432b123",
   "metadata": {},
   "outputs": [],
   "source": [
    "# TODO: Design your score function for feature selection\n",
    "# ranking_idx = np.linspace(0,1999,2000,dtype=int)\n",
    "# random.shuffle(ranking_idx)\n",
    "ranking_idx = [-1]\n",
    "ranking_idx_score = [-1]\n",
    "nij = [62-np.count_nonzero(y),np.count_nonzero(y)]\n",
    "for i in range(2000): #pick ith feature\n",
    "#     print(i)\n",
    "    up = 0\n",
    "    down = 0\n",
    "    for j in range(2): #class j\n",
    "        nj = nij[j] \n",
    "        uij,varij = get_uij_and_varij(x,i,j)\n",
    "        ui = get_ui(x,i)\n",
    "        up += nj*((uij-ui)**2)\n",
    "        down += nj*varij\n",
    "    fisher_score = up/down\n",
    "    ranking_idx,ranking_idx_score = insert(ranking_idx,ranking_idx_score,i,fisher_score)\n",
    "# TODO: To use the provided evaluation sample code, you need to generate ranking_idx, which is the sorted index of feature"
   ]
  },
  {
   "cell_type": "markdown",
   "id": "7d93f874",
   "metadata": {},
   "source": [
    "# Feature evaluation"
   ]
  },
  {
   "cell_type": "code",
   "execution_count": 20,
   "id": "dd871f8b",
   "metadata": {
    "scrolled": true
   },
   "outputs": [
    {
     "name": "stdout",
     "output_type": "stream",
     "text": [
      "Max of Decision Tree: 0.8692307692307694\n",
      "Number of features: 72\n"
     ]
    }
   ],
   "source": [
    "# Use a simple dicision tree with 5-fold validation to evaluate the feature selection result.\n",
    "# You can try other classifier and hyperparameter.\n",
    "score_history = []\n",
    "for m in range(1, 2001, 1): # m = 5,10,15,...,2000 -> m = 1,2,3,...,2000\n",
    "    # Select Top m feature\n",
    "    x_subset = x[:, ranking_idx[:m]]\n",
    "\n",
    "    # Build random forest\n",
    "#     clf = DecisionTreeClassifier(random_state=0)\n",
    "    clf = SVC(kernel='rbf', random_state=0) #build SVM\n",
    "\n",
    "    # Calculate validation score\n",
    "    scores = cross_val_score(clf, x_subset, y, cv=5)\n",
    "\n",
    "    # Save the score calculated with m feature\n",
    "    score_history.append(scores.mean())\n",
    "\n",
    "# Report best accuracy.\n",
    "print(f\"Max of Decision Tree: {max(score_history)}\")\n",
    "# print(f\"Number of features: {np.argmax(score_history)*5+5}\")\n",
    "print(f\"Number of features: {np.argmax(score_history)}\")"
   ]
  },
  {
   "cell_type": "markdown",
   "id": "74007708",
   "metadata": {},
   "source": [
    "# Visualization"
   ]
  },
  {
   "cell_type": "code",
   "execution_count": 21,
   "id": "8fd2e8a5",
   "metadata": {},
   "outputs": [
    {
     "data": {
      "image/png": "[encoded data removed]",
      "text/plain": [
       "<Figure size 432x288 with 1 Axes>"
      ]
     },
     "metadata": {
      "needs_background": "light"
     },
     "output_type": "display_data"
    }
   ],
   "source": [
    "plt.plot(range(1, 2001, 1), score_history, c='blue')\n",
    "plt.title('Original')\n",
    "plt.xlabel('Number of features')\n",
    "plt.ylabel('Cross-validation score')\n",
    "plt.legend(['Decision Tree'])\n",
    "plt.savefig('1-3_result.png')"
   ]
  },
  {
   "cell_type": "markdown",
   "id": "a9164d78",
   "metadata": {},
   "source": [
    "# Record (Max of Decision Tree / Number of features)"
   ]
  },
  {
   "cell_type": "markdown",
   "id": "0561d906",
   "metadata": {},
   "source": [
    "completely_random : 0.8538461538461538 / 460"
   ]
  },
  {
   "cell_type": "markdown",
   "id": "89b2c0e7",
   "metadata": {},
   "source": [
    "fisher_score = 0.8705128205128204 / 35"
   ]
  },
  {
   "cell_type": "markdown",
   "id": "151b874b",
   "metadata": {},
   "source": [
    "fisher_score(skip=1) = 0.9038461538461539 / 67"
   ]
  },
  {
   "cell_type": "code",
   "execution_count": null,
   "id": "6ad3f9da",
   "metadata": {},
   "outputs": [],
   "source": [
    "np.var(x[:,1])"
   ]
  },
  {
   "cell_type": "code",
   "execution_count": null,
   "id": "494536e4",
   "metadata": {},
   "outputs": [],
   "source": [
    "np.count_nonzero(y)"
   ]
  },
  {
   "cell_type": "code",
   "execution_count": null,
   "id": "07d9b047",
   "metadata": {},
   "outputs": [],
   "source": [
    "# print(ranking_idx)"
   ]
  },
  {
   "cell_type": "code",
   "execution_count": null,
   "id": "87824183",
   "metadata": {
    "scrolled": false
   },
   "outputs": [],
   "source": [
    "print(ranking_idx_score)"
   ]
  },
  {
   "cell_type": "markdown",
   "id": "7793fc98",
   "metadata": {},
   "source": [
    "# Validate mutiple feature "
   ]
  },
  {
   "cell_type": "markdown",
   "id": "9fc3704d",
   "metadata": {},
   "source": [
    "pick index = 248 , 764 , 492 features"
   ]
  },
  {
   "cell_type": "code",
   "execution_count": null,
   "id": "6263c393",
   "metadata": {},
   "outputs": [],
   "source": [
    "import numpy as np\n",
    "z1 = np.reshape(x[:,248].T,(1,62))\n",
    "z2 = np.reshape(x[:,764].T,(1,62))\n",
    "z3 = np.reshape(x[:,492].T,(1,62))\n",
    "Z = np.concatenate((z1,z2,z3))\n",
    "print(z1.shape)\n",
    "print(Z.shape)"
   ]
  },
  {
   "cell_type": "code",
   "execution_count": null,
   "id": "cf96d82d",
   "metadata": {},
   "outputs": [],
   "source": [
    "np.reshape(Z[:,61],(3,1))"
   ]
  },
  {
   "cell_type": "markdown",
   "id": "65198867",
   "metadata": {},
   "source": [
    "# get SB"
   ]
  },
  {
   "cell_type": "code",
   "execution_count": null,
   "id": "8fe291f5",
   "metadata": {},
   "outputs": [],
   "source": [
    "def cal_uk(Z,k):\n",
    "    for i in range(62):\n",
    "        if int(y[i]) == k:\n",
    "#             print('dfb')\n",
    "            try:\n",
    "                target = np.concatenate((target,np.reshape(Z[:,i],(3,1))),axis=1)\n",
    "            except:\n",
    "                target = np.reshape(Z[:,i],(3,1))\n",
    "#     print(target.shape)\n",
    "#     print(np.average(target,axis=1).shape)\n",
    "    \n",
    "    return np.average(target,axis=1)"
   ]
  },
  {
   "cell_type": "code",
   "execution_count": null,
   "id": "63a3c7d7",
   "metadata": {
    "scrolled": false
   },
   "outputs": [],
   "source": [
    "u0 = np.reshape(cal_uk(Z,0),(3,1))\n",
    "u1 = np.reshape(cal_uk(Z,1),(3,1))\n",
    "u = nij[0]*u0 + nij[1]*u1\n",
    "SB = np.zeros((3,3))\n",
    "for k in range(2):\n",
    "    nk = nij[k]\n",
    "    if k==0:\n",
    "        uk=u0\n",
    "    else:\n",
    "        uk=u1\n",
    "    SB += nk* np.matmul((uk-u),(uk-u).T)\n",
    "# print(SB)"
   ]
  },
  {
   "cell_type": "markdown",
   "id": "3a95080b",
   "metadata": {},
   "source": [
    "# get St"
   ]
  },
  {
   "cell_type": "code",
   "execution_count": null,
   "id": "22f4ef87",
   "metadata": {},
   "outputs": [],
   "source": [
    "St = np.zeros((3,3))\n",
    "for i in range(62):\n",
    "    zi = np.reshape(Z[:,i],(3,1))\n",
    "    St += np.matmul((zi-u),(zi-u).T)"
   ]
  },
  {
   "cell_type": "markdown",
   "id": "57d260b0",
   "metadata": {},
   "source": [
    "# get fisher score"
   ]
  },
  {
   "cell_type": "code",
   "execution_count": null,
   "id": "0a2e97ae",
   "metadata": {},
   "outputs": [],
   "source": [
    "score = 0\n",
    "A = np.matmul(SB,np.linalg.inv(St+1e-2*np.identity(3)))\n",
    "for i in range(3):\n",
    "    score += A[i,i]"
   ]
  },
  {
   "cell_type": "code",
   "execution_count": null,
   "id": "c23bbc2c",
   "metadata": {},
   "outputs": [],
   "source": [
    "print(score)"
   ]
  },
  {
   "cell_type": "code",
   "execution_count": null,
   "id": "2d130504",
   "metadata": {},
   "outputs": [],
   "source": [
    "sum([0.6635444906271158,0.5524959834149036, 0.5335986349543933])"
   ]
  },
  {
   "cell_type": "markdown",
   "id": "80d5ac99",
   "metadata": {},
   "source": [
    "# 結論: 故不是score直接相加"
   ]
  },
  {
   "cell_type": "code",
   "execution_count": null,
   "id": "c8e06024",
   "metadata": {},
   "outputs": [],
   "source": [
    "a = [2 ,3]\n",
    "a[:0]"
   ]
  },
  {
   "cell_type": "code",
   "execution_count": null,
   "id": "5a30f69f",
   "metadata": {},
   "outputs": [],
   "source": [
    "for m in range(1, 2001, 1):\n",
    "    print(m)"
   ]
  },
  {
   "cell_type": "code",
   "execution_count": null,
   "id": "ea0ef1a4",
   "metadata": {},
   "outputs": [],
   "source": [
    "for m in range(5, 2001, 5):\n",
    "    print(m)"
   ]
  },
  {
   "cell_type": "code",
   "execution_count": null,
   "id": "34613d2d",
   "metadata": {},
   "outputs": [],
   "source": [
    "np.argmax(score_history)"
   ]
  },
  {
   "cell_type": "code",
   "execution_count": null,
   "id": "96114775",
   "metadata": {},
   "outputs": [],
   "source": [
    "# print(score_history)\n",
    "print(score_history[67])"
   ]
  },
  {
   "cell_type": "code",
   "execution_count": null,
   "id": "b286d0a0",
   "metadata": {},
   "outputs": [],
   "source": []
  }
 ],
 "metadata": {
  "kernelspec": {
   "display_name": "Python 3 (ipykernel)",
   "language": "python",
   "name": "python3"
  },
  "language_info": {
   "codemirror_mode": {
    "name": "ipython",
    "version": 3
   },
   "file_extension": ".py",
   "mimetype": "text/x-python",
   "name": "python",
   "nbconvert_exporter": "python",
   "pygments_lexer": "ipython3",
   "version": "3.9.7"
  }
 },
 "nbformat": 4,
 "nbformat_minor": 5
}

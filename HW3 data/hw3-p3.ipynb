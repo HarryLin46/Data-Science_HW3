{
 "cells": [
  {
   "cell_type": "code",
   "execution_count": null,
   "id": "b48f8fa9",
   "metadata": {},
   "outputs": [],
   "source": [
    "import numpy as np\n",
    "import pandas as pd\n",
    "from matplotlib import pyplot as plt\n",
    "from sklearn.svm import SVC\n",
    "from sklearn.tree import DecisionTreeClassifier\n",
    "from sklearn.model_selection import cross_val_score"
   ]
  },
  {
   "cell_type": "markdown",
   "id": "84f0822e",
   "metadata": {},
   "source": [
    "# Load Data"
   ]
  },
  {
   "cell_type": "code",
   "execution_count": null,
   "id": "19a5be2e",
   "metadata": {},
   "outputs": [],
   "source": [
    "# TODO: Load data here.\n",
    "indexes = pd.read_csv('hw3_Data1/index.txt', delimiter = '\\t', header = None)\n",
    "x = pd.read_csv('hw3_Data1/gene.txt', delimiter = ' ', header = None).to_numpy().T\n",
    "y = pd.read_csv('hw3_Data1/label.txt', header = None).to_numpy()\n",
    "y = (y>0).astype(int).reshape(y.shape[0])"
   ]
  },
  {
   "cell_type": "markdown",
   "id": "25d0162c",
   "metadata": {},
   "source": [
    "# Feature ranking"
   ]
  },
  {
   "cell_type": "code",
   "execution_count": null,
   "id": "0432b123",
   "metadata": {},
   "outputs": [],
   "source": [
    "# TODO: Design your score function for feature selection\n",
    "# TODO: To use the provided evaluation sample code, you need to generate ranking_idx, which is the sorted index of feature"
   ]
  },
  {
   "cell_type": "markdown",
   "id": "7d93f874",
   "metadata": {},
   "source": [
    "# Feature evaluation"
   ]
  },
  {
   "cell_type": "code",
   "execution_count": null,
   "id": "dd871f8b",
   "metadata": {},
   "outputs": [],
   "source": [
    "# ===========================================================\n",
    "#                       Feature evaluation\n",
    "# =========================================================== \n",
    "# Use a simple dicision tree with 5-fold validation to evaluate the feature selection result.\n",
    "# You can try other classifier and hyperparameter.\n",
    "score_history = []\n",
    "for m in range(5, 2001, 5):\n",
    "    # Select Top m feature\n",
    "    x_subset = x[:, ranking_idx[:m]]\n",
    "\n",
    "    # Build random forest\n",
    "    clf = DecisionTreeClassifier(random_state=0)\n",
    "    # clf = SVC(kernel='rbf', random_state=0) #build SVM\n",
    "\n",
    "    # Calculate validation score\n",
    "    scores = cross_val_score(clf, x_subset, y, cv=5)\n",
    "\n",
    "    # Save the score calculated with m feature\n",
    "    score_history.append(scores.mean())\n",
    "\n",
    "# Report best accuracy.\n",
    "print(f\"Max of Decision Tree: {max(score_history)}\")\n",
    "print(f\"Number of features: {np.argmax(score_history)*5+5}\")\n",
    "# ===========================================================\n",
    "#                       Feature evaluation\n",
    "# =========================================================== "
   ]
  },
  {
   "cell_type": "markdown",
   "id": "74007708",
   "metadata": {},
   "source": [
    "# Visualization"
   ]
  },
  {
   "cell_type": "code",
   "execution_count": null,
   "id": "8fd2e8a5",
   "metadata": {},
   "outputs": [],
   "source": [
    "# ===========================================================\n",
    "#                       Visualization\n",
    "# =========================================================== \n",
    "plt.plot(range(5, 2001, 5), score_history, c='blue')\n",
    "plt.title('Original')\n",
    "plt.xlabel('Number of features')\n",
    "plt.ylabel('Cross-validation score')\n",
    "plt.legend(['Decision Tree'])\n",
    "plt.savefig('1-3_result.png')\n",
    "# ===========================================================\n",
    "#                       Visualization\n",
    "# =========================================================== "
   ]
  },
  {
   "cell_type": "code",
   "execution_count": null,
   "id": "0a15aaf8",
   "metadata": {},
   "outputs": [],
   "source": []
  }
 ],
 "metadata": {
  "kernelspec": {
   "display_name": "Python 3 (ipykernel)",
   "language": "python",
   "name": "python3"
  },
  "language_info": {
   "codemirror_mode": {
    "name": "ipython",
    "version": 3
   },
   "file_extension": ".py",
   "mimetype": "text/x-python",
   "name": "python",
   "nbconvert_exporter": "python",
   "pygments_lexer": "ipython3",
   "version": "3.9.7"
  }
 },
 "nbformat": 4,
 "nbformat_minor": 5
}
